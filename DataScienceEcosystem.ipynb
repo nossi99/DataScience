{
 "cells": [
  {
   "cell_type": "markdown",
   "id": "065bdcd3",
   "metadata": {},
   "source": [
    "# Data Science Tools and Ecosystem"
   ]
  },
  {
   "cell_type": "markdown",
   "id": "e210d06a",
   "metadata": {},
   "source": [
    "## Author\n",
    "Noah Karrer"
   ]
  },
  {
   "cell_type": "markdown",
   "id": "e579f156",
   "metadata": {},
   "source": [
    " In this notebook, Data Science Tools and Ecosystem are summarized."
   ]
  },
  {
   "cell_type": "markdown",
   "id": "6c4fc8f3",
   "metadata": {},
   "source": [
    "*Objectives*:  \n",
    "\n",
    "$\\cdot$List popular languages for Data Science\n",
    "\n",
    "$\\cdot$List popular libraries for Data Science\n",
    "\n",
    "$\\cdot$List popular Tools for Data Science\n"
   ]
  },
  {
   "cell_type": "markdown",
   "id": "ebd8bae6",
   "metadata": {},
   "source": [
    "Some of the popular languages that Data Scientists use are:\n",
    "\n",
    "    1. Julia\n",
    "    2. R\n",
    "    3. Python"
   ]
  },
  {
   "cell_type": "markdown",
   "id": "6108ad10",
   "metadata": {},
   "source": [
    "Some of the commonly used libraries used by Data Scientists include:\n",
    "\n",
    "    1. Pandas\n",
    "    2. NumPy\n",
    "    3. Matplotlib\n"
   ]
  },
  {
   "cell_type": "markdown",
   "id": "12a9bacb",
   "metadata": {},
   "source": [
    "| Data Science Tools | \n",
    "|------------------- |\n",
    "| Spyder             |           \n",
    "| Jupyter Notebook   | \n",
    "|       RStudio      |"
   ]
  },
  {
   "cell_type": "markdown",
   "id": "38e1447c",
   "metadata": {},
   "source": [
    "### Below are a few examples of evaluating arithmetic expressions in Python"
   ]
  },
  {
   "cell_type": "code",
   "execution_count": 8,
   "id": "ba8f4823",
   "metadata": {},
   "outputs": [
    {
     "data": {
      "text/plain": [
       "17"
      ]
     },
     "execution_count": 8,
     "metadata": {},
     "output_type": "execute_result"
    }
   ],
   "source": [
    "#This is a simple arithmetic expression to mutiply then add integers\n",
    "(3*4)+5"
   ]
  },
  {
   "cell_type": "code",
   "execution_count": 7,
   "id": "301ef409",
   "metadata": {},
   "outputs": [
    {
     "data": {
      "text/plain": [
       "3.3333333333333335"
      ]
     },
     "execution_count": 7,
     "metadata": {},
     "output_type": "execute_result"
    }
   ],
   "source": [
    "#This will convert 200 minutes to hours by diving by 60\n",
    "200/60\n",
    "\n"
   ]
  },
  {
   "cell_type": "code",
   "execution_count": null,
   "id": "5645e253",
   "metadata": {},
   "outputs": [],
   "source": []
  }
 ],
 "metadata": {
  "kernelspec": {
   "display_name": "Python 3 (ipykernel)",
   "language": "python",
   "name": "python3"
  },
  "language_info": {
   "codemirror_mode": {
    "name": "ipython",
    "version": 3
   },
   "file_extension": ".py",
   "mimetype": "text/x-python",
   "name": "python",
   "nbconvert_exporter": "python",
   "pygments_lexer": "ipython3",
   "version": "3.11.4"
  }
 },
 "nbformat": 4,
 "nbformat_minor": 5
}
